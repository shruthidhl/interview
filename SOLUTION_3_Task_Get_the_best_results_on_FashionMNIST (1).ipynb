{
 "cells": [
  {
   "cell_type": "markdown",
   "metadata": {
    "colab_type": "text",
    "id": "eSHhdguTHm0N"
   },
   "source": [
    "# Challenge: Get the best results on the [fashion-MNIST](https://github.com/zalandoresearch/fashion-mnist) dataset!\n",
    "\n",
    "> \"Fashion-MNIST is a dataset of Zalando's article images—consisting of a training set of 60,000 examples and a test set of 10,000 examples. Each example is a 28x28 grayscale image, associated with a label from 10 classes. We intend Fashion-MNIST to serve as a direct drop-in replacement for the original MNIST dataset for benchmarking machine learning algorithms. It shares the same image size and structure of training and testing splits.\"\n",
    "\n",
    "<img src=\"https://raw.githubusercontent.com/zalandoresearch/fashion-mnist/master/doc/img/fashion-mnist-sprite.png\">\n",
    "\n",
    "\n",
    "TASK - Challenge: Get the best results on the fashionMNIST dataset!\n",
    "\n",
    "The challenge of this task is to get the best results on the fashionMNIST dataset by tuning hyperparameters of the model and observing convergence behavior.\n",
    "\n",
    "\"Best\" - for simplicity - means the highest accuracy on the validation set.\n",
    "\n",
    "\"Rules\":\n",
    "\n",
    "    You can change any hyperparameters,\n",
    "    including the number of layers,\n",
    "    width of the layers,\n",
    "    activation functions,\n",
    "    regularizers (and their parameters),\n",
    "    optimizer (and it's parameters), but\n",
    "    you should not change the model architecture, use only fully connected layers! (Even if you know any others... :-P\n",
    "\n",
    "Added constraint: The model with the \"best performance\" has to be saved, so it should not be just a printout happening once during training!\n",
    "\n",
    "And: You may NOT manipulate the validation set! :-P\n",
    "\n",
    "Happy coding! :-)\n"
   ]
  },
  {
   "cell_type": "markdown",
   "metadata": {
    "colab_type": "text",
    "id": "TIX2ehpiHm0S"
   },
   "source": [
    "# Loading the data"
   ]
  },
  {
   "cell_type": "code",
   "execution_count": 1,
   "metadata": {
    "colab": {
     "base_uri": "https://localhost:8080/",
     "height": 825
    },
    "colab_type": "code",
    "id": "dcJxMEUUHu3M",
    "outputId": "81881ab4-17a4-47e0-969b-a6f3b6c55bc6"
   },
   "outputs": [
    {
     "name": "stdout",
     "output_type": "stream",
     "text": [
      "--2019-04-07 16:06:30--  http://fashion-mnist.s3-website.eu-central-1.amazonaws.com/train-images-idx3-ubyte.gz\n",
      "Resolving fashion-mnist.s3-website.eu-central-1.amazonaws.com (fashion-mnist.s3-website.eu-central-1.amazonaws.com)... 52.219.74.110\n",
      "Connecting to fashion-mnist.s3-website.eu-central-1.amazonaws.com (fashion-mnist.s3-website.eu-central-1.amazonaws.com)|52.219.74.110|:80... connected.\n",
      "HTTP request sent, awaiting response... 200 OK\n",
      "Length: 26421880 (25M) [binary/octet-stream]\n",
      "Saving to: ‘train-images-idx3-ubyte.gz.4’\n",
      "\n",
      "train-images-idx3-u 100%[===================>]  25.20M  15.8MB/s    in 1.6s    \n",
      "\n",
      "2019-04-07 16:06:32 (15.8 MB/s) - ‘train-images-idx3-ubyte.gz.4’ saved [26421880/26421880]\n",
      "\n",
      "--2019-04-07 16:06:33--  http://fashion-mnist.s3-website.eu-central-1.amazonaws.com/train-labels-idx1-ubyte.gz\n",
      "Resolving fashion-mnist.s3-website.eu-central-1.amazonaws.com (fashion-mnist.s3-website.eu-central-1.amazonaws.com)... 52.219.74.110\n",
      "Connecting to fashion-mnist.s3-website.eu-central-1.amazonaws.com (fashion-mnist.s3-website.eu-central-1.amazonaws.com)|52.219.74.110|:80... connected.\n",
      "HTTP request sent, awaiting response... 200 OK\n",
      "Length: 29515 (29K) [binary/octet-stream]\n",
      "Saving to: ‘train-labels-idx1-ubyte.gz.4’\n",
      "\n",
      "train-labels-idx1-u 100%[===================>]  28.82K  --.-KB/s    in 0.1s    \n",
      "\n",
      "2019-04-07 16:06:34 (273 KB/s) - ‘train-labels-idx1-ubyte.gz.4’ saved [29515/29515]\n",
      "\n",
      "--2019-04-07 16:06:35--  http://fashion-mnist.s3-website.eu-central-1.amazonaws.com/t10k-images-idx3-ubyte.gz\n",
      "Resolving fashion-mnist.s3-website.eu-central-1.amazonaws.com (fashion-mnist.s3-website.eu-central-1.amazonaws.com)... 52.219.74.114\n",
      "Connecting to fashion-mnist.s3-website.eu-central-1.amazonaws.com (fashion-mnist.s3-website.eu-central-1.amazonaws.com)|52.219.74.114|:80... connected.\n",
      "HTTP request sent, awaiting response... 200 OK\n",
      "Length: 4422102 (4.2M) [binary/octet-stream]\n",
      "Saving to: ‘t10k-images-idx3-ubyte.gz.4’\n",
      "\n",
      "t10k-images-idx3-ub 100%[===================>]   4.22M  4.95MB/s    in 0.9s    \n",
      "\n",
      "2019-04-07 16:06:36 (4.95 MB/s) - ‘t10k-images-idx3-ubyte.gz.4’ saved [4422102/4422102]\n",
      "\n",
      "--2019-04-07 16:06:37--  http://fashion-mnist.s3-website.eu-central-1.amazonaws.com/t10k-labels-idx1-ubyte.gz\n",
      "Resolving fashion-mnist.s3-website.eu-central-1.amazonaws.com (fashion-mnist.s3-website.eu-central-1.amazonaws.com)... 52.219.74.114\n",
      "Connecting to fashion-mnist.s3-website.eu-central-1.amazonaws.com (fashion-mnist.s3-website.eu-central-1.amazonaws.com)|52.219.74.114|:80... connected.\n",
      "HTTP request sent, awaiting response... 200 OK\n",
      "Length: 5148 (5.0K) [binary/octet-stream]\n",
      "Saving to: ‘t10k-labels-idx1-ubyte.gz.4’\n",
      "\n",
      "t10k-labels-idx1-ub 100%[===================>]   5.03K  --.-KB/s    in 0s      \n",
      "\n",
      "2019-04-07 16:06:37 (397 MB/s) - ‘t10k-labels-idx1-ubyte.gz.4’ saved [5148/5148]\n",
      "\n"
     ]
    }
   ],
   "source": [
    "! wget http://fashion-mnist.s3-website.eu-central-1.amazonaws.com/train-images-idx3-ubyte.gz\n",
    "! wget http://fashion-mnist.s3-website.eu-central-1.amazonaws.com/train-labels-idx1-ubyte.gz\n",
    "! wget http://fashion-mnist.s3-website.eu-central-1.amazonaws.com/t10k-images-idx3-ubyte.gz\n",
    "! wget http://fashion-mnist.s3-website.eu-central-1.amazonaws.com/t10k-labels-idx1-ubyte.gz"
   ]
  },
  {
   "cell_type": "code",
   "execution_count": 0,
   "metadata": {
    "colab": {},
    "colab_type": "code",
    "collapsed": true,
    "id": "BmhEB9dAHm0V"
   },
   "outputs": [],
   "source": [
    "import numpy as np\n",
    "import os\n",
    "import gzip\n",
    "\n",
    "def load_mnist(path, kind='train'):\n",
    "    \"\"\"Load MNIST data from `path`.\n",
    "    \"\"\"\n",
    "    labels_path = os.path.join(path,'%s-labels-idx1-ubyte.gz' % kind)\n",
    "    images_path = os.path.join(path,'%s-images-idx3-ubyte.gz' % kind)\n",
    "\n",
    "    with gzip.open(labels_path, 'rb') as lbpath:\n",
    "        labels = np.frombuffer(lbpath.read(), dtype=np.uint8,\n",
    "                               offset=8)\n",
    "\n",
    "    with gzip.open(images_path, 'rb') as imgpath:\n",
    "        images = np.frombuffer(imgpath.read(), dtype=np.uint8,\n",
    "                               offset=16).reshape(len(labels), 784)\n",
    "\n",
    "    return images, labels"
   ]
  },
  {
   "cell_type": "code",
   "execution_count": 3,
   "metadata": {
    "colab": {
     "base_uri": "https://localhost:8080/",
     "height": 35
    },
    "colab_type": "code",
    "id": "jFmPQL0xM_4p",
    "outputId": "cb3fa898-8839-458d-e967-6e67a1c3581d"
   },
   "outputs": [
    {
     "name": "stdout",
     "output_type": "stream",
     "text": [
      "(60000, 784) (5000, 784) (5000, 784)\n"
     ]
    }
   ],
   "source": [
    "train_images, train_labels = load_mnist('.')\n",
    "\n",
    "# because of some limitations of Keras's softmax implementation, it's \n",
    "# advisable to normalise the images by dividing the intensities by the\n",
    "# maximal 255 value\n",
    "train_images = train_images / 255.\n",
    "\n",
    "valid_test_images, valid_test_labels = load_mnist('.', 't10k')\n",
    "\n",
    "valid_test_images = valid_test_images / 255. # the same normalization for valid and test\n",
    "\n",
    "valid_images = valid_test_images[:5000]\n",
    "valid_labels = valid_test_labels[:5000]\n",
    "test_images = valid_test_images[5000:]\n",
    "test_labels = valid_test_labels[5000:]\n",
    "\n",
    "print(train_images.shape, valid_images.shape, test_images.shape)"
   ]
  },
  {
   "cell_type": "markdown",
   "metadata": {
    "colab_type": "text",
    "id": "Aumcj_hUfBg4"
   },
   "source": [
    "Let's have a look at the first few training images:"
   ]
  },
  {
   "cell_type": "code",
   "execution_count": 4,
   "metadata": {
    "colab": {
     "base_uri": "https://localhost:8080/",
     "height": 276
    },
    "colab_type": "code",
    "id": "o105FqR_fBg7",
    "outputId": "74f5ce4a-3f99-4734-b220-0aca434a70dd"
   },
   "outputs": [
    {
     "data": {
      "image/png": "[encoded data removed]",
      "text/plain": [
       "<Figure size 1080x324 with 30 Axes>"
      ]
     },
     "metadata": {
      "tags": []
     },
     "output_type": "display_data"
    }
   ],
   "source": [
    "from matplotlib import pyplot as plt\n",
    "from math import ceil\n",
    "\n",
    "def show_images(images):\n",
    "    \"\"\"Show images in a grid\n",
    "    \"\"\"\n",
    "    n_rows = ceil(len(images) / 10)\n",
    "    fig, ax = plt.subplots(n_rows, 10, figsize=(15, 1.5 * n_rows),\n",
    "                           subplot_kw={'xticks':[], 'yticks':[]},\n",
    "                           gridspec_kw=dict(hspace=0.1, wspace=0.1))\n",
    "    for i, _ in enumerate(images):\n",
    "        # below we scale the pixel intensities back to display the images correctly\n",
    "        ax[i // 10, i % 10].imshow(255 * images[i].reshape(28, 28), cmap='Greys')\n",
    "\n",
    "show_images(train_images[:30])\n",
    "plt.show();"
   ]
  },
  {
   "cell_type": "markdown",
   "metadata": {
    "colab_type": "text",
    "id": "GclmFak2s54y"
   },
   "source": [
    "# Model\n",
    "\n",
    "## Preliminaries"
   ]
  },
  {
   "cell_type": "code",
   "execution_count": 0,
   "metadata": {
    "colab": {},
    "colab_type": "code",
    "collapsed": true,
    "id": "YicGfZ4ffBhK"
   },
   "outputs": [],
   "source": [
    "import tensorflow as tf\n",
    "from tensorflow.keras.layers import Input, Dense, Dropout\n",
    "from tensorflow.keras.models import Model\n",
    "from tensorflow.keras.optimizers import Adadelta, Adam\n",
    "from tensorflow.keras.losses import sparse_categorical_crossentropy\n",
    "from tensorflow.keras.regularizers import l1\n",
    "from tensorflow.keras.backend import clear_session"
   ]
  },
  {
   "cell_type": "markdown",
   "metadata": {
    "colab_type": "text",
    "id": "G3s8ZdftfBhd"
   },
   "source": [
    "We set the random seeds to get (as far as possible) reproducible results:"
   ]
  },
  {
   "cell_type": "code",
   "execution_count": 0,
   "metadata": {
    "colab": {},
    "colab_type": "code",
    "collapsed": true,
    "id": "VFdlHKVDfBhi"
   },
   "outputs": [],
   "source": [
    "# Fix seeds for (hopefully) reproducible results\n",
    "from numpy.random import seed\n",
    "seed(14)\n",
    "tf.random.set_seed(19)"
   ]
  },
  {
   "cell_type": "markdown",
   "metadata": {
    "colab_type": "text",
    "id": "0L5qn2lXfBhp"
   },
   "source": [
    "## Hyperparameters"
   ]
  },
  {
   "cell_type": "code",
   "execution_count": 0,
   "metadata": {
    "colab": {},
    "colab_type": "code",
    "collapsed": true,
    "id": "VpD2jPj6s3-g"
   },
   "outputs": [],
   "source": [
    "# Task parameters\n",
    "\n",
    "input_size = 784\n",
    "n_classes = 10\n",
    "\n",
    "# Hyperparameters\n",
    "#################\n",
    "\n",
    "# dropout???\n",
    "dropout_rate = 0.15\n",
    "\n",
    "# regularization\n",
    "\n",
    "#lambda_ = 0.0000\n",
    "# regularizer = l1(lambda_)\n",
    "regularizer = None \n",
    "\n",
    "# weight initialization\n",
    "initializer = \"random_normal\"\n",
    "\n",
    "# Model parameters\n",
    "#################\n",
    "\n",
    "# hidden_layers\n",
    "hidden_layer_size = 256\n",
    "n_hidden_layers = 5\n",
    "hidden_layer_sizes = n_hidden_layers * [hidden_layer_size]\n",
    "\n",
    "# activation function\n",
    "activation_fun =  \"sigmoid\""
   ]
  },
  {
   "cell_type": "markdown",
   "metadata": {
    "colab_type": "text",
    "id": "QxyeFqibHm05"
   },
   "source": [
    "## Network"
   ]
  },
  {
   "cell_type": "code",
   "execution_count": 8,
   "metadata": {
    "colab": {
     "base_uri": "https://localhost:8080/",
     "height": 717
    },
    "colab_type": "code",
    "id": "2Sc9NCoJfBh0",
    "outputId": "7e940ebd-1b09-4848-ee85-7fe89ff9e670"
   },
   "outputs": [
    {
     "name": "stdout",
     "output_type": "stream",
     "text": [
      "WARNING:tensorflow:From /usr/local/lib/python3.6/dist-packages/tensorflow/python/ops/resource_variable_ops.py:435: colocate_with (from tensorflow.python.framework.ops) is deprecated and will be removed in a future version.\n",
      "Instructions for updating:\n",
      "Colocations handled automatically by placer.\n",
      "WARNING:tensorflow:From /usr/local/lib/python3.6/dist-packages/tensorflow/python/keras/layers/core.py:143: calling dropout (from tensorflow.python.ops.nn_ops) with keep_prob is deprecated and will be removed in a future version.\n",
      "Instructions for updating:\n",
      "Please use `rate` instead of `keep_prob`. Rate should be set to `rate = 1 - keep_prob`.\n",
      "_________________________________________________________________\n",
      "Layer (type)                 Output Shape              Param #   \n",
      "=================================================================\n",
      "input_1 (InputLayer)         (None, 784)               0         \n",
      "_________________________________________________________________\n",
      "dense (Dense)                (None, 256)               200960    \n",
      "_________________________________________________________________\n",
      "dropout (Dropout)            (None, 256)               0         \n",
      "_________________________________________________________________\n",
      "dense_1 (Dense)              (None, 256)               65792     \n",
      "_________________________________________________________________\n",
      "dropout_1 (Dropout)          (None, 256)               0         \n",
      "_________________________________________________________________\n",
      "dense_2 (Dense)              (None, 256)               65792     \n",
      "_________________________________________________________________\n",
      "dropout_2 (Dropout)          (None, 256)               0         \n",
      "_________________________________________________________________\n",
      "dense_3 (Dense)              (None, 256)               65792     \n",
      "_________________________________________________________________\n",
      "dropout_3 (Dropout)          (None, 256)               0         \n",
      "_________________________________________________________________\n",
      "dense_4 (Dense)              (None, 256)               65792     \n",
      "_________________________________________________________________\n",
      "dropout_4 (Dropout)          (None, 256)               0         \n",
      "_________________________________________________________________\n",
      "dense_5 (Dense)              (None, 10)                2570      \n",
      "=================================================================\n",
      "Total params: 466,698\n",
      "Trainable params: 466,698\n",
      "Non-trainable params: 0\n",
      "_________________________________________________________________\n"
     ]
    }
   ],
   "source": [
    "tf.compat.v1.reset_default_graph() # It's good practice to clea and reset everything\n",
    "clear_session            # even using Keras\n",
    "\n",
    "\n",
    "# Model\n",
    "#######\n",
    "\n",
    "x = Input(shape=(input_size,))\n",
    "\n",
    "# Hidden layers\n",
    "\n",
    "cur_last_layer = x\n",
    "\n",
    "for n, _ in enumerate(hidden_layer_sizes):\n",
    "    cur_last_layer = Dense(units=hidden_layer_sizes[n], \n",
    "                        activation=activation_fun,\n",
    "                        kernel_regularizer=regularizer,\n",
    "                        kernel_initializer=initializer,\n",
    "                        bias_initializer=initializer)(cur_last_layer)\n",
    "    \n",
    "    cur_last_layer = Dropout(rate=dropout_rate)(cur_last_layer)\n",
    "\n",
    "# Softmax \n",
    "\n",
    "predictions = Dense(n_classes, activation='softmax')(cur_last_layer)\n",
    "\n",
    "# Full model\n",
    "\n",
    "model = Model(inputs=x, outputs=predictions)\n",
    "\n",
    "model.summary()"
   ]
  },
  {
   "cell_type": "markdown",
   "metadata": {
    "colab_type": "text",
    "id": "z4vQf0hkfBiA"
   },
   "source": [
    "## Loss, optimization and compilation"
   ]
  },
  {
   "cell_type": "code",
   "execution_count": 0,
   "metadata": {
    "colab": {},
    "colab_type": "code",
    "collapsed": true,
    "id": "rWwxSa0ZfBiC"
   },
   "outputs": [],
   "source": [
    "# Loss \n",
    "\n",
    "loss = sparse_categorical_crossentropy # we use this cross entropy variant as the input is not \n",
    "                                       # one-hot encoded\n",
    "\n",
    "# Optimizer\n",
    "\n",
    "optimizer = Adam() # A \"smart\" SGD variant \n",
    " \n",
    "# Compilation\n",
    "#############\n",
    "\n",
    "model.compile(optimizer=optimizer, loss=loss, metrics=['accuracy'])"
   ]
  },
  {
   "cell_type": "markdown",
   "metadata": {
    "colab_type": "text",
    "id": "plYKl2O-fBiV"
   },
   "source": [
    "## Training"
   ]
  },
  {
   "cell_type": "code",
   "execution_count": 10,
   "metadata": {
    "colab": {
     "base_uri": "https://localhost:8080/",
     "height": 770
    },
    "colab_type": "code",
    "id": "3J86Uf8cfBiX",
    "outputId": "db467dbe-c1d3-4ce1-ba69-0f29e0fb1276"
   },
   "outputs": [
    {
     "name": "stdout",
     "output_type": "stream",
     "text": [
      "Train on 60000 samples, validate on 5000 samples\n",
      "Epoch 1/20\n",
      "60000/60000 [==============================] - 5s 79us/sample - loss: 1.3087 - acc: 0.4427 - val_loss: 1.0136 - val_acc: 0.5726\n",
      "Epoch 2/20\n",
      "60000/60000 [==============================] - 4s 71us/sample - loss: 1.0167 - acc: 0.5728 - val_loss: 0.9136 - val_acc: 0.6316\n",
      "Epoch 3/20\n",
      "60000/60000 [==============================] - 4s 71us/sample - loss: 0.9543 - acc: 0.6122 - val_loss: 0.8303 - val_acc: 0.6704\n",
      "Epoch 4/20\n",
      "60000/60000 [==============================] - 4s 70us/sample - loss: 0.8627 - acc: 0.6577 - val_loss: 0.7951 - val_acc: 0.6842\n",
      "Epoch 5/20\n",
      "60000/60000 [==============================] - 4s 71us/sample - loss: 0.8251 - acc: 0.6816 - val_loss: 0.7389 - val_acc: 0.7196\n",
      "Epoch 6/20\n",
      "60000/60000 [==============================] - 4s 71us/sample - loss: 0.7990 - acc: 0.6907 - val_loss: 0.7341 - val_acc: 0.7050\n",
      "Epoch 7/20\n",
      "60000/60000 [==============================] - 4s 71us/sample - loss: 0.7837 - acc: 0.6920 - val_loss: 0.6907 - val_acc: 0.7210\n",
      "Epoch 8/20\n",
      "60000/60000 [==============================] - 4s 72us/sample - loss: 0.7448 - acc: 0.7099 - val_loss: 0.6467 - val_acc: 0.7478\n",
      "Epoch 9/20\n",
      "60000/60000 [==============================] - 4s 71us/sample - loss: 0.7300 - acc: 0.7185 - val_loss: 0.6517 - val_acc: 0.7496\n",
      "Epoch 10/20\n",
      "60000/60000 [==============================] - 4s 70us/sample - loss: 0.7220 - acc: 0.7198 - val_loss: 0.6791 - val_acc: 0.7274\n",
      "Epoch 11/20\n",
      "60000/60000 [==============================] - 4s 70us/sample - loss: 0.7181 - acc: 0.7146 - val_loss: 0.6498 - val_acc: 0.7490\n",
      "Epoch 12/20\n",
      "60000/60000 [==============================] - 4s 71us/sample - loss: 0.7067 - acc: 0.7219 - val_loss: 0.6319 - val_acc: 0.7600\n",
      "Epoch 13/20\n",
      "60000/60000 [==============================] - 4s 71us/sample - loss: 0.7040 - acc: 0.7198 - val_loss: 0.6460 - val_acc: 0.7280\n",
      "Epoch 14/20\n",
      "60000/60000 [==============================] - 4s 71us/sample - loss: 0.6727 - acc: 0.7326 - val_loss: 0.5933 - val_acc: 0.7604\n",
      "Epoch 15/20\n",
      "60000/60000 [==============================] - 4s 72us/sample - loss: 0.6658 - acc: 0.7404 - val_loss: 0.6173 - val_acc: 0.7590\n",
      "Epoch 16/20\n",
      "60000/60000 [==============================] - 4s 73us/sample - loss: 0.6613 - acc: 0.7427 - val_loss: 0.6113 - val_acc: 0.7512\n",
      "Epoch 17/20\n",
      "60000/60000 [==============================] - 4s 71us/sample - loss: 0.6777 - acc: 0.7336 - val_loss: 0.6038 - val_acc: 0.7660\n",
      "Epoch 18/20\n",
      "60000/60000 [==============================] - 4s 70us/sample - loss: 0.6648 - acc: 0.7360 - val_loss: 0.5952 - val_acc: 0.7672\n",
      "Epoch 19/20\n",
      "60000/60000 [==============================] - 4s 71us/sample - loss: 0.6457 - acc: 0.7462 - val_loss: 0.5878 - val_acc: 0.7672\n",
      "Epoch 20/20\n",
      "60000/60000 [==============================] - 4s 71us/sample - loss: 0.6489 - acc: 0.7446 - val_loss: 0.5793 - val_acc: 0.7718\n"
     ]
    }
   ],
   "source": [
    "\n",
    "history = model.fit(x=train_images, y=train_labels,\n",
    "                    validation_data=(valid_images, valid_labels),\n",
    "                    epochs=20,\n",
    "                    batch_size=100)"
   ]
  },
  {
   "cell_type": "code",
   "execution_count": 13,
   "metadata": {
    "colab": {
     "base_uri": "https://localhost:8080/",
     "height": 735
    },
    "colab_type": "code",
    "id": "nhzdXlRJfBix",
    "outputId": "e2d6cd06-16df-409a-a0bf-de628b581508"
   },
   "outputs": [
    {
     "data": {
      "image/png": "[encoded data removed]",
      "text/plain": [
       "<Figure size 576x396 with 1 Axes>"
      ]
     },
     "metadata": {
      "tags": []
     },
     "output_type": "display_data"
    },
    {
     "data": {
      "image/png": "[encoded data removed]",
      "text/plain": [
       "<Figure size 576x396 with 1 Axes>"
      ]
     },
     "metadata": {
      "tags": []
     },
     "output_type": "display_data"
    }
   ],
   "source": [
    "def display_history(history):\n",
    "    \"\"\"Summarize history for accuracy and loss.\n",
    "    \"\"\"\n",
    "    plt.plot(history.history['accuracy'])\n",
    "    plt.plot(history.history['val_accuracy'])\n",
    "    plt.title('Model accuracy')\n",
    "    plt.ylabel('accuracy')\n",
    "    plt.xlabel('epoch')\n",
    "    plt.legend(['train', 'valid'], loc='upper left')\n",
    "    plt.show()\n",
    "    plt.plot(history.history['loss'])\n",
    "    plt.plot(history.history['val_loss'])\n",
    "    plt.title('Model loss')\n",
    "    plt.ylabel('loss')\n",
    "    plt.xlabel('epoch')\n",
    "    plt.legend(['train', 'valid'], loc='upper left')\n",
    "    plt.show()\n",
    "    \n",
    "display_history(history)"
   ]
  },
  {
   "cell_type": "code",
   "execution_count": null,
   "metadata": {
    "collapsed": true
   },
   "outputs": [],
   "source": [
    "assert max(history.history['accuracy'])>0.72\n",
    "assert max(history.history['val_accuracy'])>0.73"
   ]
  },
  {
   "cell_type": "markdown",
   "metadata": {
    "colab_type": "text",
    "id": "s8r1zj1fiJw1"
   },
   "source": [
    "## Saving the model"
   ]
  },
  {
   "cell_type": "code",
   "execution_count": 0,
   "metadata": {
    "colab": {},
    "colab_type": "code",
    "collapsed": true,
    "id": "2NgYnGN5iOXL"
   },
   "outputs": [],
   "source": [
    "model.save('my_model.h5')  # creates a HDF5 file 'my_model.h5'\n"
   ]
  }
 ],
 "metadata": {
  "accelerator": "GPU",
  "colab": {
   "collapsed_sections": [],
   "name": "Day7-Task.ipynb",
   "provenance": [],
   "toc_visible": true,
   "version": "0.3.2"
  },
  "kernelspec": {
   "display_name": "Python 3",
   "language": "python",
   "name": "python3"
  },
  "language_info": {
   "codemirror_mode": {
    "name": "ipython",
    "version": 3
   },
   "file_extension": ".py",
   "mimetype": "text/x-python",
   "name": "python",
   "nbconvert_exporter": "python",
   "pygments_lexer": "ipython3",
   "version": "3.7.9"
  },
  "toc": {
   "base_numbering": 1,
   "nav_menu": {},
   "number_sections": true,
   "sideBar": true,
   "skip_h1_title": false,
   "title_cell": "Table of Contents",
   "title_sidebar": "Contents",
   "toc_cell": false,
   "toc_position": {},
   "toc_section_display": true,
   "toc_window_display": false
  },
  "varInspector": {
   "cols": {
    "lenName": 16,
    "lenType": 16,
    "lenVar": 40
   },
   "kernels_config": {
    "python": {
     "delete_cmd_postfix": "",
     "delete_cmd_prefix": "del ",
     "library": "var_list.py",
     "varRefreshCmd": "print(var_dic_list())"
    },
    "r": {
     "delete_cmd_postfix": ") ",
     "delete_cmd_prefix": "rm(",
     "library": "var_list.r",
     "varRefreshCmd": "cat(var_dic_list()) "
    }
   },
   "types_to_exclude": [
    "module",
    "function",
    "builtin_function_or_method",
    "instance",
    "_Feature"
   ],
   "window_display": false
  }
 },
 "nbformat": 4,
 "nbformat_minor": 1
}
